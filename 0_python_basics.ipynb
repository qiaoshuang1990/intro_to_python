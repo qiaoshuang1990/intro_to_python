{
 "cells": [
  {
   "cell_type": "markdown",
   "metadata": {},
   "source": [
    "# Intro to Python: Basics of Python\n",
    "Part of the workshop series presented by the [IDEA Student Center at UC San Diego](http://www.jacobsschool.ucsd.edu/student/).\n",
    "\n",
    "### Goals\n",
    "Learn the basics of Python (the programming language).\n",
    "\n",
    "### Requirements\n",
    "- python 2.x or 3.x\n",
    "- jupyter notebook"
   ]
  },
  {
   "cell_type": "code",
   "execution_count": null,
   "metadata": {
    "collapsed": true
   },
   "outputs": [],
   "source": [
    "# make the code compatible with both Python 2 and 3\n",
    "from __future__ import print_function, division"
   ]
  },
  {
   "cell_type": "markdown",
   "metadata": {},
   "source": [
    "## 1) Hello World\n",
    "Python is a very simple language, but can be very powerful. We'll first go over the basics of Python's syntax."
   ]
  },
  {
   "cell_type": "code",
   "execution_count": null,
   "metadata": {
    "collapsed": false
   },
   "outputs": [],
   "source": [
    "print(\"Hello World!\")"
   ]
  },
  {
   "cell_type": "code",
   "execution_count": null,
   "metadata": {
    "collapsed": false
   },
   "outputs": [],
   "source": [
    "# Python uses # to comment out lines\n",
    "print(\"This line shows up\")\n",
    "\n",
    "# print(\"But this line doesn't, since it is commented out by a # symbol\")"
   ]
  },
  {
   "cell_type": "code",
   "execution_count": null,
   "metadata": {
    "collapsed": false
   },
   "outputs": [],
   "source": [
    "# Python 3.x supports more than just ASCII characters\n",
    "print(\"My face when a student calls a # a hastag: (ಠ_ಠ)\")\n",
    "\n",
    "#print(\"This kind of looks like a dog: (❍ᴥ❍ʋ)\")\n",
    "\n",
    "#print(\"And here's a dancing one: ヽ(⌐■_■)ノ♪♬\")"
   ]
  },
  {
   "cell_type": "markdown",
   "metadata": {},
   "source": [
    "## 2) Variables\n",
    "Assigning variables is a common task in programming and is also straightforward in Python."
   ]
  },
  {
   "cell_type": "code",
   "execution_count": null,
   "metadata": {
    "collapsed": false
   },
   "outputs": [],
   "source": [
    "# assign a variables with =\n",
    "x = 5\n",
    "print(x)"
   ]
  },
  {
   "cell_type": "markdown",
   "metadata": {},
   "source": [
    "**NOTE**: You can use longer variable names as well:"
   ]
  },
  {
   "cell_type": "code",
   "execution_count": null,
   "metadata": {
    "collapsed": false
   },
   "outputs": [],
   "source": [
    "# assign a variable to hold the value of the acceleration due \n",
    "# to gravity on Earth (9.81 m/s^2)\n",
    "gravity = 9.81\n",
    "\n",
    "print(gravity)"
   ]
  },
  {
   "cell_type": "markdown",
   "metadata": {},
   "source": [
    "Try defining variables for a few common engineering scenarios:"
   ]
  },
  {
   "cell_type": "code",
   "execution_count": null,
   "metadata": {
    "collapsed": true
   },
   "outputs": [],
   "source": [
    "# the mass of a bowling ball (2 kg)\n",
    "m = ???\n",
    "\n",
    "print(m)"
   ]
  },
  {
   "cell_type": "code",
   "execution_count": null,
   "metadata": {
    "collapsed": true
   },
   "outputs": [],
   "source": [
    "# the velocity of blood flowing through an artery (45 cm/s)\n",
    "??? = 45.0\n",
    "\n",
    "print(???)"
   ]
  },
  {
   "cell_type": "code",
   "execution_count": null,
   "metadata": {
    "collapsed": false
   },
   "outputs": [],
   "source": [
    "# can you think of any other examples? try them out below...\n",
    "\n"
   ]
  },
  {
   "cell_type": "markdown",
   "metadata": {},
   "source": [
    "## 3) Math operations\n",
    "Of course, Python can also perform math operations and so you can\n",
    "use it as a \"calculator\" (although it is capable of so much more).\n",
    "Math operations are straightforward:\n",
    "- ``+`` = addition\n",
    "- ``-`` = subtraction\n",
    "- ``*`` = multiplication\n",
    "- ``/`` = division\n",
    "- ``**`` = raised to a power"
   ]
  },
  {
   "cell_type": "code",
   "execution_count": null,
   "metadata": {
    "collapsed": false
   },
   "outputs": [],
   "source": [
    "# try the math operations out:\n",
    "#  + = addition\n",
    "#  - = subtraction\n",
    "#  * = multiplication\n",
    "#  / = division\n",
    "#  ** = raised to a power\n",
    "\n",
    "# four times two\n",
    "4 * 2"
   ]
  },
  {
   "cell_type": "code",
   "execution_count": null,
   "metadata": {
    "collapsed": false
   },
   "outputs": [],
   "source": [
    "# three squared\n",
    "???"
   ]
  },
  {
   "cell_type": "code",
   "execution_count": null,
   "metadata": {
    "collapsed": false
   },
   "outputs": [],
   "source": [
    "# 2016 minus twenty\n",
    "???"
   ]
  },
  {
   "cell_type": "markdown",
   "metadata": {},
   "source": [
    "Now that we've covered variables and math operations, let's try\n",
    "doing some homework-style calculations:"
   ]
  },
  {
   "cell_type": "code",
   "execution_count": null,
   "metadata": {
    "collapsed": true
   },
   "outputs": [],
   "source": [
    "# 1) the potential energy (PE) of a 2 kg bowling ball dropped\n",
    "# from the top of Jacobs Hall\n",
    "#\n",
    "# Knowns:\n",
    "# - PE = mass * gravity * height\n",
    "# - mass = 2 kg\n",
    "# - gravity = 9.81 m/s^2\n",
    "# - height = ??? m\n",
    "\n",
    "# define the three variables\n",
    "\n",
    "# mass of the bowling ball [kg]\n",
    "m = ???\n",
    "\n",
    "# gravity [m/s^2]\n",
    "g = ???\n",
    "\n",
    "# height of Jacobs Hall [m]\n",
    "h = ???\n",
    "\n",
    "# calculate the PE [J]\n",
    "PE = ???\n",
    "\n",
    "print(PE)"
   ]
  }
 ],
 "metadata": {
  "anaconda-cloud": {},
  "kernelspec": {
   "display_name": "Python 3",
   "language": "python",
   "name": "python3"
  },
  "language_info": {
   "codemirror_mode": {
    "name": "ipython",
    "version": 3
   },
   "file_extension": ".py",
   "mimetype": "text/x-python",
   "name": "python",
   "nbconvert_exporter": "python",
   "pygments_lexer": "ipython3",
   "version": "3.5.2"
  }
 },
 "nbformat": 4,
 "nbformat_minor": 0
}
