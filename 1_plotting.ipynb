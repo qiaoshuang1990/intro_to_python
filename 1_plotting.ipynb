{
 "cells": [
  {
   "cell_type": "markdown",
   "metadata": {},
   "source": [
    "# Intro to Python: Data Analysis\n",
    "Part of the workshop series presented by the [IDEA Student Center at UC San Diego](http://www.jacobsschool.ucsd.edu/student/).\n",
    "\n",
    "### Goals\n",
    "Learn the basics of Python (the programming language) for data analysis:\n",
    "- loading data from a file\n",
    "- plotting\n",
    "- vectorized calculations\n",
    "\n",
    "### Requirements\n",
    "- numpy = for loading data and vectorized calculations\n",
    "- matplotlib = for plotting"
   ]
  },
  {
   "cell_type": "code",
   "execution_count": null,
   "metadata": {
    "collapsed": true
   },
   "outputs": [],
   "source": [
    "# make the code compatible with both Python 2 and 3\n",
    "from __future__ import print_function, division"
   ]
  },
  {
   "cell_type": "markdown",
   "metadata": {},
   "source": [
    "## 1) Loading packages\n",
    "Python is a general purpose language, which means it can be used for\n",
    "a wide variety of problems. However, that also means it is not set up\n",
    "automatically for engineering tasks (i.e. it's more like C/C++ than Matlab). Fortunately, Python has a great community and a large number\n",
    "of third-party packages have been created to allow users to solve engineering problems with Python (instead of Matlab). The two packages we'll focus on (which will help recreate most Matlab functionality) are:\n",
    "- [NumPy](http://www.numpy.org/)\n",
    "- [Matplotlib](http://matplotlib.org/)\n",
    "\n",
    "But first, we need to load these packages."
   ]
  },
  {
   "cell_type": "code",
   "execution_count": null,
   "metadata": {
    "collapsed": false
   },
   "outputs": [],
   "source": [
    "# to load a package in Python (assuming it's installed), use the built-in\n",
    "# ``import`` command\n",
    "\n",
    "# load NumPy\n",
    "import numpy\n",
    "\n",
    "# check the version of numpy\n",
    "print( numpy.__version__ )"
   ]
  },
  {
   "cell_type": "markdown",
   "metadata": {
    "collapsed": false
   },
   "source": [
    "The numpy package has a lot of built-in code for performing common math-related programming tasks. Let's try a few out:"
   ]
  },
  {
   "cell_type": "code",
   "execution_count": null,
   "metadata": {
    "collapsed": true
   },
   "outputs": [],
   "source": [
    "# the value of pi\n",
    "print( numpy.pi )"
   ]
  },
  {
   "cell_type": "code",
   "execution_count": null,
   "metadata": {
    "collapsed": true
   },
   "outputs": [],
   "source": [
    "# cosine function\n",
    "print( numpy.cos(0) )"
   ]
  },
  {
   "cell_type": "code",
   "execution_count": null,
   "metadata": {
    "collapsed": true
   },
   "outputs": [],
   "source": [
    "# create a vector of ones\n",
    "print( numpy.ones(5) )"
   ]
  },
  {
   "cell_type": "markdown",
   "metadata": {},
   "source": [
    "At this point, you may already be tired of typing ``numpy`` over and over. Well, you're not the only one. Which is why Python's ``import`` command has extra options, including the ability to assign an alias for a package name."
   ]
  },
  {
   "cell_type": "code",
   "execution_count": null,
   "metadata": {
    "collapsed": false
   },
   "outputs": [],
   "source": [
    "# load the numpy package, but refer to it by the alias ``np``\n",
    "import numpy as np\n",
    "\n",
    "# now whenever you type ``np``, Python knows you mean ``numpy``\n",
    "\n",
    "# check the numpy version\n",
    "print( np.__version__ )\n",
    "\n",
    "# the value of pi\n",
    "print( np.pi )\n",
    "\n",
    "# sin(pi / 2)\n",
    "print( np.sin(np.pi / 2.0) )\n",
    "\n",
    "# Aaaawwww, so much nicer ^__^"
   ]
  },
  {
   "cell_type": "markdown",
   "metadata": {},
   "source": [
    "## 2) Plotting data\n",
    "Now let's try plotting something. First we'll load the plotting package (matplotlib) and then we'll plot some sample data."
   ]
  },
  {
   "cell_type": "code",
   "execution_count": null,
   "metadata": {
    "collapsed": false
   },
   "outputs": [],
   "source": [
    "# load a plotting library\n",
    "import matplotlib.pyplot as plt\n",
    "\n",
    "# make figures show up inside the notebook (instead of in\n",
    "# a separate window)\n",
    "%matplotlib inline"
   ]
  },
  {
   "cell_type": "code",
   "execution_count": null,
   "metadata": {
    "collapsed": false
   },
   "outputs": [],
   "source": [
    "# a simple line plot\n",
    "\n",
    "# create some \"fake\" data\n",
    "x = [0, 1, 2, 3, 4, 5]\n",
    "y = [0, 1, 4, 9, 16, 25]\n",
    "\n",
    "# plot the data\n",
    "plt.plot(x, y)\n",
    "\n",
    "# show the plot\n",
    "plt.show()"
   ]
  },
  {
   "cell_type": "code",
   "execution_count": null,
   "metadata": {
    "collapsed": false
   },
   "outputs": [],
   "source": [
    "# let's do that again, but this time we'll try to make the plot look a\n",
    "# bit more professional by changing the colors, line thicknesses, etc.\n",
    "\n",
    "# create some \"fake\" data\n",
    "x = [0, 1, 2, 3, 4, 5]\n",
    "y = [0, 1, 4, 9, 16, 25]\n",
    "\n",
    "# plot the data\n",
    "plt.plot(x, y, color='black', linewidth=2.0)\n",
    "\n",
    "# add a label to the x-axis\n",
    "plt.xlabel('x')\n",
    "\n",
    "# add a label to the y-axis\n",
    "plt.ylabel('???')\n",
    "\n",
    "# show the plot\n",
    "plt.show()\n",
    "\n",
    "# try to further improve the plot:\n",
    "# - try other built-in colors (red, blue, green, etc.)\n",
    "# - or try using a custom color using HEX codes (e.g. \"#16a9c7\" is a blue-ish color)\n",
    "# - change the range of values shown on the y-axis with ``plt.ylim([y_min, y_max])``\n",
    "# - change the linestyle of the plot with ``linestyle='--'`` (dashed) or ``linestyle=':'`` (dotted)\n",
    "# - change the fontsize of the x-axis label with ``plt.xlabel('x', fontsize=18)``\n",
    "#\n",
    "# is there anything else you want to try changing?\n",
    "#"
   ]
  },
  {
   "cell_type": "code",
   "execution_count": null,
   "metadata": {
    "collapsed": false
   },
   "outputs": [],
   "source": [
    "# matplotlib has other plot types built-in\n",
    "\n",
    "# create some random data\n",
    "# - pressure [atm]\n",
    "# - temperature [K]\n",
    "pressure = [1, 2, 3, 4, 5]\n",
    "temperature = [273, 303, 310, 350, 365]\n",
    "\n",
    "# example: scatter plot\n",
    "plt.scatter(pressure, temperature)\n",
    "plt.show()\n",
    "\n",
    "# example: bar plot\n",
    "#plt.bar(???, ???)\n",
    "#plt.show()\n",
    "\n",
    "# NOTE: each plot type has its own set of possible customizations, but\n",
    "# there is overlap between them (e.g. you can change the color of the bar plot\n",
    "# with ``color='red'``)\n",
    "#"
   ]
  },
  {
   "cell_type": "markdown",
   "metadata": {},
   "source": [
    "## 3) Loading data files\n",
    "Now that we can load packages and plot, let's try working with some data."
   ]
  },
  {
   "cell_type": "markdown",
   "metadata": {},
   "source": [
    "### 3.1) Ice cream sales vs shark attacks\n",
    "Let's compare data on ice cream sales and shark attacks."
   ]
  },
  {
   "cell_type": "code",
   "execution_count": null,
   "metadata": {
    "collapsed": false
   },
   "outputs": [],
   "source": [
    "# to make things simple, we're going to use numpy to load the data\n",
    "\n",
    "# load the data file\n",
    "# - first column = number of ice cream sales\n",
    "# - second column = number of shark attacks\n",
    "#\n",
    "data = np.genfromtxt('ice_cream_vs_shark_attacks.csv',\n",
    "                     # columns are separate by commas (csv = comma separated values)\n",
    "                     delimiter=',',\n",
    "                     \n",
    "                     # the first row of the file is the column names\n",
    "                     # (i.e. the first row isn't data and so we can skip it)\n",
    "                     skip_header=1)\n",
    "\n",
    "# as a one liner\n",
    "#data = np.genfromtxt('ice_cream_vs_shark_attacks.csv', delimiter=',', skip_header=1)"
   ]
  },
  {
   "cell_type": "code",
   "execution_count": null,
   "metadata": {
    "collapsed": false
   },
   "outputs": [],
   "source": [
    "# view the data\n",
    "print( data )"
   ]
  },
  {
   "cell_type": "code",
   "execution_count": null,
   "metadata": {
    "collapsed": false
   },
   "outputs": [],
   "source": [
    "# check the length of the data\n",
    "print( len(data) )"
   ]
  },
  {
   "cell_type": "code",
   "execution_count": null,
   "metadata": {
    "collapsed": false
   },
   "outputs": [],
   "source": [
    "# NOTE: numpy has a built-in parameter to see the dimensions of\n",
    "# the array (very useful is you're working with 2D, 3D, etc. data)\n",
    "print( data.shape )"
   ]
  },
  {
   "cell_type": "code",
   "execution_count": null,
   "metadata": {
    "collapsed": false
   },
   "outputs": [],
   "source": [
    "# check the type used to store the data\n",
    "print( type(data) )"
   ]
  },
  {
   "cell_type": "code",
   "execution_count": null,
   "metadata": {
    "collapsed": true
   },
   "outputs": [],
   "source": [
    "# to make things easier, we're going to split the data into\n",
    "# two variables\n",
    "\n",
    "# select all rows, but only the first column (column 0)\n",
    "ice_cream = data[:, 0]\n",
    "\n",
    "# select all rows, but only the second column (column 1)\n",
    "shark_attacks = data[:, ???]"
   ]
  },
  {
   "cell_type": "code",
   "execution_count": null,
   "metadata": {
    "collapsed": false
   },
   "outputs": [],
   "source": [
    "# create a quick plot of the data\n",
    "\n",
    "# let's do a scatter plot\n",
    "plt.scatter(ice_cream, ???)\n",
    "\n",
    "# add labels to the x and y axes\n",
    "plt.xlabel('???')\n",
    "plt.ylabel('???')\n",
    "\n",
    "# show the plot\n",
    "plt.show()"
   ]
  },
  {
   "cell_type": "markdown",
   "metadata": {},
   "source": [
    "**Question**: Does this mean ice cream makes people delicious to shark attacks? Or that shark attacks cause you have a craving for Ben & Jerry's?"
   ]
  },
  {
   "cell_type": "markdown",
   "metadata": {},
   "source": [
    "### 3.2) Lab data\n",
    "Now let's try a more realistic example to what you would do in an engineering lab class."
   ]
  },
  {
   "cell_type": "code",
   "execution_count": null,
   "metadata": {
    "collapsed": true
   },
   "outputs": [],
   "source": [
    "# first, we'll load a data file that has the results from an experiment\n",
    "\n",
    "# consumption rate of oxygen during combustion\n",
    "#\n",
    "# load experimental data from a file (2 columns)\n",
    "# - column 0 = temperature [K]\n",
    "# - column 1 = consumption rate [moles/(s * m^2)]\n",
    "#\n",
    "data = np.genfromtxt('combustion.csv', delimiter=',', skip_header=1)\n",
    "\n",
    "# temperature [K]\n",
    "T = data[:, 0]\n",
    "\n",
    "# consumption rate (J) [kmoles/(s * m^2)]\n",
    "J = data[:, 1]"
   ]
  },
  {
   "cell_type": "code",
   "execution_count": null,
   "metadata": {
    "collapsed": false
   },
   "outputs": [],
   "source": [
    "# plot the temperature vs consumption rate of oxygen\n",
    "\n",
    "# use scatter plot since these are data points from an \n",
    "# experiment\n",
    "plt.scatter(T, J, color='black')\n",
    "\n",
    "# add labels\n",
    "plt.xlabel('???')\n",
    "plt.ylabel('???')\n",
    "\n",
    "# show the plot\n",
    "plt.show()"
   ]
  },
  {
   "cell_type": "markdown",
   "metadata": {
    "collapsed": true
   },
   "source": [
    "Now let's compare the experimental results (the data we just loaded and plotted) to a theoretical model.\n",
    "\n",
    "**NOTE**: due to time constraints, we will only compare the theoretical and experimental results visually. In a real scenario, you should use statistical metrics to determine how well the theory and data agree."
   ]
  },
  {
   "cell_type": "markdown",
   "metadata": {},
   "source": [
    "The consumption rate of oxygen for this experimental setup is described\n",
    "by the following equation:\n",
    "\n",
    "$$\n",
    "J = c D_{12} \\frac{1}{r_0} ,\n",
    "$$\n",
    "\n",
    "where $D_{12}$ = 1.71E-4 [m$^2$/s], $r_0$ = 0.001 [m] (i.e. 1 mm), and $c$ [mol/m$^3$] is calculated as:\n",
    "\n",
    "$$\n",
    "c = \\frac{p}{R T} ,\n",
    "$$\n",
    "where $p$ is the pressure (10135.0 [Pa]), $R$ = 8.314 J/(K * mol), and $T$ [K] is the temperature."
   ]
  },
  {
   "cell_type": "code",
   "execution_count": null,
   "metadata": {
    "collapsed": true
   },
   "outputs": [],
   "source": [
    "# knowns:\n",
    "# - p = 10135.0 Pa\n",
    "# - R = 8.314 J/(K*mol)\n",
    "# - r0 = 0.001 m\n",
    "# - D12 = 1.71E-4 m^2/s\n",
    "\n",
    "# need to calculate:\n",
    "# - c in [moles/m^3] for a range of temperatures [K]\n",
    "# - J in [moles/(m^2 * s)]"
   ]
  },
  {
   "cell_type": "code",
   "execution_count": null,
   "metadata": {
    "collapsed": true
   },
   "outputs": [],
   "source": [
    "# define the knowns as variables:\n",
    "\n",
    "# pressure [Pa]\n",
    "p = 10135.0\n",
    "\n",
    "# ideal gas constant [J/(mol*K)]\n",
    "R = 8.314\n",
    "\n",
    "# radius [m]\n",
    "r0 = 0.001\n",
    "\n",
    "# mass diffusivity [m^2/s]\n",
    "D12 = 1.71E-4"
   ]
  },
  {
   "cell_type": "code",
   "execution_count": null,
   "metadata": {
    "collapsed": false
   },
   "outputs": [],
   "source": [
    "# calculate c [kmol/m^3] for a range of temperatures [K]\n",
    "\n",
    "# create a vector of temperatures [K]\n",
    "#\n",
    "#   np.arange(min value, max value, step size)\n",
    "#\n",
    "T_theory = np.arange(1200.0, ???, 100.0)\n",
    "\n",
    "# calculate c for the range of temperatures\n",
    "c = p / (R * T_theory)\n",
    "\n",
    "# then calculate J for a range of temperatures\n",
    "# using the equations above\n",
    "J_theory = ???\n",
    "\n",
    "# check the results with a plot\n",
    "plt.plot(T_theory, J_theory)\n",
    "plt.show()"
   ]
  },
  {
   "cell_type": "code",
   "execution_count": null,
   "metadata": {
    "collapsed": false
   },
   "outputs": [],
   "source": [
    "# now let's plot the theoretical results against the experimental\n",
    "\n",
    "# plot the experimental results\n",
    "plt.scatter(T, J, color='red')\n",
    "\n",
    "# plot the theoretical results\n",
    "plt.plot(???, ???, color='black')\n",
    "\n",
    "# show the plot\n",
    "plt.show()\n",
    "\n",
    "\n",
    "# now that we have a basic plot, try to improve the formatting\n",
    "# - colors\n",
    "# - line styles and thicknesses\n",
    "# - text labels\n",
    "# - font sizes\n",
    "#"
   ]
  }
 ],
 "metadata": {
  "anaconda-cloud": {},
  "kernelspec": {
   "display_name": "Python [py35]",
   "language": "python",
   "name": "Python [py35]"
  },
  "language_info": {
   "codemirror_mode": {
    "name": "ipython",
    "version": 3
   },
   "file_extension": ".py",
   "mimetype": "text/x-python",
   "name": "python",
   "nbconvert_exporter": "python",
   "pygments_lexer": "ipython3",
   "version": "3.5.2"
  }
 },
 "nbformat": 4,
 "nbformat_minor": 0
}
