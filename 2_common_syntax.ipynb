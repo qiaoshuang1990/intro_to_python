{
 "cells": [
  {
   "cell_type": "markdown",
   "metadata": {},
   "source": [
    "# Intro to Python: Syntax\n",
    "Part of the workshop series presented by the [IDEA Student Center at UC San Diego](http://www.jacobsschool.ucsd.edu/student/).\n",
    "\n",
    "### Goals\n",
    "Practice some common programming tasks using Python, including how to achieve the same results as Matlab in Python.\n",
    "\n",
    "### Requirements\n",
    "- numpy = for loading data and vectorized calculations\n",
    "- matplotlib = for plotting"
   ]
  },
  {
   "cell_type": "code",
   "execution_count": null,
   "metadata": {
    "collapsed": false
   },
   "outputs": [],
   "source": [
    "# make the code compatible with both Python 2 and 3\n",
    "from __future__ import print_function, division\n",
    "\n",
    "# load the numpy package (which gives us much of the same functionality as matlab)\n",
    "import numpy as np\n",
    "\n",
    "# also load matplotlib (for plotting/visualization)\n",
    "import matplotlib.pyplot as plt\n",
    "%matplotlib inline"
   ]
  },
  {
   "cell_type": "markdown",
   "metadata": {},
   "source": [
    "## 1) Common syntax\n",
    "We'll cover common programming tasks:\n",
    "- for loops\n",
    "- make vectors in a range"
   ]
  },
  {
   "cell_type": "markdown",
   "metadata": {},
   "source": [
    "### 1.1) For loops"
   ]
  },
  {
   "cell_type": "code",
   "execution_count": null,
   "metadata": {
    "collapsed": false
   },
   "outputs": [],
   "source": [
    "# loop through numbers\n",
    "for i in range(5):\n",
    "    print(i)"
   ]
  },
  {
   "cell_type": "code",
   "execution_count": null,
   "metadata": {
    "collapsed": false
   },
   "outputs": [],
   "source": [
    "# print even numbers from 0 up to (but not including) 10\n",
    "for i in range(0, 10, 2):\n",
    "    print(i)"
   ]
  },
  {
   "cell_type": "code",
   "execution_count": null,
   "metadata": {
    "collapsed": false
   },
   "outputs": [],
   "source": [
    "# print even numbers from 0 up to (and including 10)\n",
    "for i in range(0, 10 + 1, 2):\n",
    "    print(i)"
   ]
  },
  {
   "cell_type": "code",
   "execution_count": null,
   "metadata": {
    "collapsed": false
   },
   "outputs": [],
   "source": [
    "# loop through items in a list\n",
    "\n",
    "# make a list of names\n",
    "names = ['David', 'Carlos', 'Rachel']\n",
    "\n",
    "# print each name in the list\n",
    "for name in names:\n",
    "    print(name)"
   ]
  },
  {
   "cell_type": "code",
   "execution_count": null,
   "metadata": {
    "collapsed": false
   },
   "outputs": [],
   "source": [
    "# make a list of names\n",
    "names = ['David', 'Carlos', 'Rachel']\n",
    "\n",
    "# print each name in the list\n",
    "for name in names:\n",
    "    print(\"My name is\", name)"
   ]
  },
  {
   "cell_type": "code",
   "execution_count": null,
   "metadata": {
    "collapsed": false
   },
   "outputs": [],
   "source": [
    "# make a list of numbers\n",
    "angles = [1, 2, 3, 4, 5]\n",
    "\n",
    "# use the elements of the list in calculations\n",
    "for angle in angles:\n",
    "    print( angle * 10 )"
   ]
  },
  {
   "cell_type": "markdown",
   "metadata": {},
   "source": [
    "### 1.2) Formatting strings"
   ]
  },
  {
   "cell_type": "code",
   "execution_count": null,
   "metadata": {
    "collapsed": false
   },
   "outputs": [],
   "source": [
    "# pick a name\n",
    "name = 'Jennifer'\n",
    "\n",
    "print(\"My name is\", name)\n",
    "\n",
    "# alternative syntax 1\n",
    "#print(\"My name is \" + name)\n",
    "\n",
    "# alternative syntax 2\n",
    "#print(\"My name is {0}\".format(name))"
   ]
  },
  {
   "cell_type": "code",
   "execution_count": null,
   "metadata": {
    "collapsed": false
   },
   "outputs": [],
   "source": [
    "# formatting numbers\n",
    "T = 273.05840957484 # temperature [K]\n",
    "P = 1.01            # pressure [atm]\n",
    "\n",
    "# display temperature and pressure using Python defaults\n",
    "print( \"Temperature [K] =\", T)\n",
    "print( \"Pressure [atm] =\", P)\n",
    "\n",
    "# display the temperature as a floating point number, with\n",
    "# 3 decimal places of precision\n",
    "print( \"Temperature [K] = {0:.3f}\".format(T) )\n",
    "\n",
    "# display the pressure as a floating point number, with\n",
    "# 2 decimal places of precision\n",
    "print( \"Pressure [K] = {0:.2f}\".format(P) )"
   ]
  },
  {
   "cell_type": "code",
   "execution_count": null,
   "metadata": {
    "collapsed": false
   },
   "outputs": [],
   "source": [
    "# display text and numbers together\n",
    "\n",
    "filename = \"experiment_01.csv\"\n",
    "voltage = 3.30\n",
    "error = 0.58470548\n",
    "\n",
    "print( \"{0}: {1:.2f} [V], error = {2:.3f}\".format(filename, voltage, error) )"
   ]
  },
  {
   "cell_type": "code",
   "execution_count": null,
   "metadata": {
    "collapsed": false
   },
   "outputs": [],
   "source": [
    "print( \"{0}: {1:.2f} [V], error = {2:.3f}\".format(\"experiment_01.csv\", 3.3, 0.58470548) )\n",
    "print( \"{0}: {1:.2f} [V], error = {2:.3f}\".format(\"experiment_02.csv\", 3.6, 0.65960505) )\n",
    "print( \"{0}: {1:.2f} [V], error = {2:.3f}\".format(\"experiment_03.csv\", 3.9, 0.69896580) )\n",
    "print( \"{0}: {1:.2f} [V], error = {2:.3f}\".format(\"experiment_04.csv\", 4.2, 0.73438940) )"
   ]
  },
  {
   "cell_type": "markdown",
   "metadata": {},
   "source": [
    "### 1.3) Creating lists of numbers"
   ]
  },
  {
   "cell_type": "code",
   "execution_count": null,
   "metadata": {
    "collapsed": false
   },
   "outputs": [],
   "source": [
    "# vector of ones, with length 10\n",
    "x = np.ones(10)\n",
    "print( x )"
   ]
  },
  {
   "cell_type": "code",
   "execution_count": null,
   "metadata": {
    "collapsed": false
   },
   "outputs": [],
   "source": [
    "# 5 x 5 array of zeroes\n",
    "A = np.zeros([5, 5])\n",
    "print( A )"
   ]
  },
  {
   "cell_type": "code",
   "execution_count": null,
   "metadata": {
    "collapsed": false
   },
   "outputs": [],
   "source": [
    "# 3 x 3 identity matrix\n",
    "A = np.eye(3)\n",
    "print( A )"
   ]
  },
  {
   "cell_type": "code",
   "execution_count": null,
   "metadata": {
    "collapsed": false
   },
   "outputs": [],
   "source": [
    "# create a list of numbers, with a specified minimum, maximum and step size\n",
    "x = np.arange(0, 5, 1)   # from 0, up to 5, in steps of 1\n",
    "print( x )"
   ]
  },
  {
   "cell_type": "code",
   "execution_count": null,
   "metadata": {
    "collapsed": false
   },
   "outputs": [],
   "source": [
    "# create a list of numbers of a specific length\n",
    "x = np.linspace(0, 1, 10)  # from 0 to 1, with 10 elements total\n",
    "print( x )"
   ]
  },
  {
   "cell_type": "markdown",
   "metadata": {
    "collapsed": true
   },
   "source": [
    "## 2) Linear Algebra\n",
    "Common Linear Algebra concepts implemented in Python."
   ]
  },
  {
   "cell_type": "markdown",
   "metadata": {},
   "source": [
    "### 2.1) Creating vectors and matrices\n",
    "In Python (via numpy), vectors and matrices are referred to as arrays."
   ]
  },
  {
   "cell_type": "code",
   "execution_count": null,
   "metadata": {
    "collapsed": false
   },
   "outputs": [],
   "source": [
    "# create a 1D array (a vector)\n",
    "x = np.arange(0, 10, 0.1)\n",
    "print( x )"
   ]
  },
  {
   "cell_type": "code",
   "execution_count": null,
   "metadata": {
    "collapsed": false
   },
   "outputs": [],
   "source": [
    "# identity matrix\n",
    "I = np.eye(8)\n",
    "print( I )"
   ]
  },
  {
   "cell_type": "code",
   "execution_count": null,
   "metadata": {
    "collapsed": false
   },
   "outputs": [],
   "source": [
    "# solve an Ax=b problem\n",
    "\n",
    "# create a random matrix A of size 10 x 10\n",
    "A = np.random.rand(10, 10)\n",
    "\n",
    "# create a random vector b of size 10\n",
    "b = np.random.rand(10)\n",
    "\n",
    "# solve Ax=b\n",
    "x = np.linalg.solve(A, b)\n",
    "\n",
    "# check the solution (i.e. does Ax = b ?)\n",
    "print( np.dot(A, x) )\n",
    "print( b )"
   ]
  },
  {
   "cell_type": "code",
   "execution_count": null,
   "metadata": {
    "collapsed": false
   },
   "outputs": [],
   "source": [
    "# invert a matrix\n",
    "\n",
    "# create a random matrix A\n",
    "A = np.random.rand(5, 5)\n",
    "\n",
    "# invert the matrix\n",
    "A_invert = np.linalg.inv(A)\n",
    "\n",
    "# check the answer (i.e. does A A^-1 = I )\n",
    "print( np.dot(A, A_invert) )\n",
    "\n",
    "# are the answers close to each other (i.e. does A A^-1 ~= I)?\n",
    "print( np.allclose(np.dot(A, A_invert), np.eye(5, 5)) )"
   ]
  },
  {
   "cell_type": "code",
   "execution_count": null,
   "metadata": {
    "collapsed": true
   },
   "outputs": [],
   "source": []
  }
 ],
 "metadata": {
  "anaconda-cloud": {},
  "kernelspec": {
   "display_name": "Python [root]",
   "language": "python",
   "name": "Python [root]"
  },
  "language_info": {
   "codemirror_mode": {
    "name": "ipython",
    "version": 3
   },
   "file_extension": ".py",
   "mimetype": "text/x-python",
   "name": "python",
   "nbconvert_exporter": "python",
   "pygments_lexer": "ipython3",
   "version": "3.5.2"
  }
 },
 "nbformat": 4,
 "nbformat_minor": 0
}
