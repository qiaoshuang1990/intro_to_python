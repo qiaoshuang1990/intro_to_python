{
 "cells": [
  {
   "cell_type": "markdown",
   "metadata": {},
   "source": [
    "# Intro to Python: Syntax\n",
    "Part of the workshop series presented by the [IDEA Student Center at UC San Diego](http://www.jacobsschool.ucsd.edu/student/).\n",
    "\n",
    "### Goals\n",
    "Practice some common programming tasks using Python, including how to achieve the same results as Matlab in Python.\n",
    "\n",
    "### Requirements\n",
    "- numpy = for loading data and vectorized calculations\n",
    "- matplotlib = for plotting"
   ]
  },
  {
   "cell_type": "code",
   "execution_count": 2,
   "metadata": {
    "collapsed": false
   },
   "outputs": [
    {
     "name": "stderr",
     "output_type": "stream",
     "text": [
      "/Users/david/anaconda/envs/workshops/lib/python2.7/site-packages/matplotlib/font_manager.py:273: UserWarning: Matplotlib is building the font cache using fc-list. This may take a moment.\n",
      "  warnings.warn('Matplotlib is building the font cache using fc-list. This may take a moment.')\n"
     ]
    }
   ],
   "source": [
    "# make the code compatible with both Python 2 and 3\n",
    "from __future__ import print_function, division\n",
    "\n",
    "# load the numpy package (which gives us much of the same functionality as matlab)\n",
    "import numpy as np\n",
    "\n",
    "# also load matplotlib (for plotting/visualization)\n",
    "import matplotlib.pyplot as plt\n",
    "%matplotlib inline"
   ]
  },
  {
   "cell_type": "markdown",
   "metadata": {},
   "source": [
    "## 1) Common syntax\n",
    "We'll cover common programming tasks:\n",
    "- for loops\n",
    "- make vectors in a range"
   ]
  },
  {
   "cell_type": "markdown",
   "metadata": {},
   "source": [
    "### 1.1) For loops"
   ]
  },
  {
   "cell_type": "code",
   "execution_count": 5,
   "metadata": {
    "collapsed": false
   },
   "outputs": [
    {
     "name": "stdout",
     "output_type": "stream",
     "text": [
      "0\n",
      "1\n",
      "2\n",
      "3\n",
      "4\n"
     ]
    }
   ],
   "source": [
    "# loop through numbers\n",
    "for i in range(5):\n",
    "    print(i)"
   ]
  },
  {
   "cell_type": "code",
   "execution_count": 6,
   "metadata": {
    "collapsed": false
   },
   "outputs": [
    {
     "name": "stdout",
     "output_type": "stream",
     "text": [
      "0\n",
      "2\n",
      "4\n",
      "6\n",
      "8\n"
     ]
    }
   ],
   "source": [
    "# print even numbers from 0 up to (but not including) 10\n",
    "for i in range(0, 10, 2):\n",
    "    print(i)"
   ]
  },
  {
   "cell_type": "code",
   "execution_count": 7,
   "metadata": {
    "collapsed": false
   },
   "outputs": [
    {
     "name": "stdout",
     "output_type": "stream",
     "text": [
      "0\n",
      "2\n",
      "4\n",
      "6\n",
      "8\n",
      "10\n"
     ]
    }
   ],
   "source": [
    "# print even numbers from 0 up to (and including 10)\n",
    "for i in range(0, 10 + 1, 2):\n",
    "    print(i)"
   ]
  },
  {
   "cell_type": "code",
   "execution_count": 12,
   "metadata": {
    "collapsed": false
   },
   "outputs": [
    {
     "name": "stdout",
     "output_type": "stream",
     "text": [
      "David\n",
      "Carlos\n",
      "Rachel\n"
     ]
    }
   ],
   "source": [
    "# loop through items in a list\n",
    "\n",
    "# make a list of names\n",
    "names = ['David', 'Carlos', 'Rachel']\n",
    "\n",
    "# print each name in the list\n",
    "for name in names:\n",
    "    print(name)"
   ]
  },
  {
   "cell_type": "code",
   "execution_count": 10,
   "metadata": {
    "collapsed": false
   },
   "outputs": [
    {
     "name": "stdout",
     "output_type": "stream",
     "text": [
      "My name is David\n",
      "My name is Carlos\n",
      "My name is Rachel\n"
     ]
    }
   ],
   "source": [
    "# make a list of names\n",
    "names = ['David', 'Carlos', 'Rachel']\n",
    "\n",
    "# print each name in the list\n",
    "for name in names:\n",
    "    print(\"My name is\", name)"
   ]
  },
  {
   "cell_type": "code",
   "execution_count": 11,
   "metadata": {
    "collapsed": false
   },
   "outputs": [
    {
     "name": "stdout",
     "output_type": "stream",
     "text": [
      "10\n",
      "20\n",
      "30\n",
      "40\n",
      "50\n"
     ]
    }
   ],
   "source": [
    "# make a list of numbers\n",
    "angles = [1, 2, 3, 4, 5]\n",
    "\n",
    "# use the elements of the list in calculations\n",
    "for angle in angles:\n",
    "    print( angle * 10 )"
   ]
  },
  {
   "cell_type": "markdown",
   "metadata": {},
   "source": [
    "### 1.2) Formatting strings"
   ]
  },
  {
   "cell_type": "code",
   "execution_count": 16,
   "metadata": {
    "collapsed": false
   },
   "outputs": [
    {
     "name": "stdout",
     "output_type": "stream",
     "text": [
      "My name is Jennifer\n"
     ]
    }
   ],
   "source": [
    "# pick a name\n",
    "name = 'Jennifer'\n",
    "\n",
    "print(\"My name is\", name)\n",
    "\n",
    "# alternative syntax 1\n",
    "#print(\"My name is \" + name)\n",
    "\n",
    "# alternative syntax 2\n",
    "#print(\"My name is {0}\".format(name))"
   ]
  },
  {
   "cell_type": "code",
   "execution_count": 22,
   "metadata": {
    "collapsed": false
   },
   "outputs": [
    {
     "name": "stdout",
     "output_type": "stream",
     "text": [
      "Temperature [K] = 273.058409575\n",
      "Pressure [atm] = 1.01\n",
      "Temperature [K] = 273.058\n",
      "Pressure [K] = 1.01\n"
     ]
    }
   ],
   "source": [
    "# formatting numbers\n",
    "T = 273.05840957484 # temperature [K]\n",
    "P = 1.01            # pressure [atm]\n",
    "\n",
    "# display temperature and pressure using Python defaults\n",
    "print( \"Temperature [K] =\", T)\n",
    "print( \"Pressure [atm] =\", P)\n",
    "\n",
    "# display the temperature as a floating point number, with\n",
    "# 3 decimal places of precision\n",
    "print( \"Temperature [K] = {0:.3f}\".format(T) )\n",
    "\n",
    "# display the pressure as a floating point number, with\n",
    "# 2 decimal places of precision\n",
    "print( \"Pressure [K] = {0:.2f}\".format(P) )"
   ]
  },
  {
   "cell_type": "code",
   "execution_count": 25,
   "metadata": {
    "collapsed": false
   },
   "outputs": [
    {
     "name": "stdout",
     "output_type": "stream",
     "text": [
      "experiment_01.csv: 3.30 [V], error = 0.585\n"
     ]
    }
   ],
   "source": [
    "# display text and numbers together\n",
    "\n",
    "filename = \"experiment_01.csv\"\n",
    "voltage = 3.30\n",
    "error = 0.58470548\n",
    "\n",
    "print( \"{0}: {1:.2f} [V], error = {2:.3f}\".format(filename, voltage, error) )"
   ]
  },
  {
   "cell_type": "code",
   "execution_count": 26,
   "metadata": {
    "collapsed": false
   },
   "outputs": [
    {
     "name": "stdout",
     "output_type": "stream",
     "text": [
      "experiment_01.csv: 3.30 [V], error = 0.585\n",
      "experiment_02.csv: 3.60 [V], error = 0.660\n",
      "experiment_03.csv: 3.90 [V], error = 0.699\n",
      "experiment_04.csv: 4.20 [V], error = 0.734\n"
     ]
    }
   ],
   "source": [
    "print( \"{0}: {1:.2f} [V], error = {2:.3f}\".format(\"experiment_01.csv\", 3.3, 0.58470548) )\n",
    "print( \"{0}: {1:.2f} [V], error = {2:.3f}\".format(\"experiment_02.csv\", 3.6, 0.65960505) )\n",
    "print( \"{0}: {1:.2f} [V], error = {2:.3f}\".format(\"experiment_03.csv\", 3.9, 0.69896580) )\n",
    "print( \"{0}: {1:.2f} [V], error = {2:.3f}\".format(\"experiment_04.csv\", 4.2, 0.73438940) )"
   ]
  },
  {
   "cell_type": "markdown",
   "metadata": {},
   "source": [
    "### 1.3) Creating lists of numbers"
   ]
  },
  {
   "cell_type": "code",
   "execution_count": 27,
   "metadata": {
    "collapsed": false
   },
   "outputs": [
    {
     "name": "stdout",
     "output_type": "stream",
     "text": [
      "[ 1.  1.  1.  1.  1.  1.  1.  1.  1.  1.]\n"
     ]
    }
   ],
   "source": [
    "# vector of ones, with length 10\n",
    "x = np.ones(10)\n",
    "print( x )"
   ]
  },
  {
   "cell_type": "code",
   "execution_count": 30,
   "metadata": {
    "collapsed": false
   },
   "outputs": [
    {
     "name": "stdout",
     "output_type": "stream",
     "text": [
      "[[ 0.  0.  0.  0.  0.]\n",
      " [ 0.  0.  0.  0.  0.]\n",
      " [ 0.  0.  0.  0.  0.]\n",
      " [ 0.  0.  0.  0.  0.]\n",
      " [ 0.  0.  0.  0.  0.]]\n"
     ]
    }
   ],
   "source": [
    "# 5 x 5 array of zeroes\n",
    "A = np.zeros([5, 5])\n",
    "print( A )"
   ]
  },
  {
   "cell_type": "code",
   "execution_count": 33,
   "metadata": {
    "collapsed": false
   },
   "outputs": [
    {
     "name": "stdout",
     "output_type": "stream",
     "text": [
      "[[ 1.  0.  0.]\n",
      " [ 0.  1.  0.]\n",
      " [ 0.  0.  1.]]\n"
     ]
    }
   ],
   "source": [
    "# 3 x 3 identity matrix\n",
    "A = np.eye(3)\n",
    "print( A )"
   ]
  },
  {
   "cell_type": "code",
   "execution_count": 35,
   "metadata": {
    "collapsed": false
   },
   "outputs": [
    {
     "name": "stdout",
     "output_type": "stream",
     "text": [
      "[0 1 2 3 4]\n"
     ]
    }
   ],
   "source": [
    "# create a list of numbers, with a specified minimum, maximum and step size\n",
    "x = np.arange(0, 5, 1)   # from 0, up to 5, in steps of 1\n",
    "print( x )"
   ]
  },
  {
   "cell_type": "code",
   "execution_count": 40,
   "metadata": {
    "collapsed": false
   },
   "outputs": [
    {
     "name": "stdout",
     "output_type": "stream",
     "text": [
      "[ 0.          0.11111111  0.22222222  0.33333333  0.44444444  0.55555556\n",
      "  0.66666667  0.77777778  0.88888889  1.        ]\n"
     ]
    }
   ],
   "source": [
    "# create a list of numbers of a specific length\n",
    "x = np.linspace(0, 1, 10)  # from 0 to 1, with 10 elements total\n",
    "print( x )"
   ]
  },
  {
   "cell_type": "code",
   "execution_count": null,
   "metadata": {
    "collapsed": true
   },
   "outputs": [],
   "source": []
  }
 ],
 "metadata": {
  "anaconda-cloud": {},
  "kernelspec": {
   "display_name": "Python 2",
   "language": "python",
   "name": "python2"
  },
  "language_info": {
   "codemirror_mode": {
    "name": "ipython",
    "version": 2
   },
   "file_extension": ".py",
   "mimetype": "text/x-python",
   "name": "python",
   "nbconvert_exporter": "python",
   "pygments_lexer": "ipython2",
   "version": "2.7.13"
  }
 },
 "nbformat": 4,
 "nbformat_minor": 0
}
